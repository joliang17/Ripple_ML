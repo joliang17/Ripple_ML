{
 "cells": [
  {
   "cell_type": "code",
   "execution_count": 2,
   "metadata": {},
   "outputs": [],
   "source": [
    "import pandas as pd\n",
    "import requests"
   ]
  },
  {
   "cell_type": "code",
   "execution_count": 83,
   "metadata": {},
   "outputs": [],
   "source": [
    "url1 = f'https://data.ripple.com/v2/network/topology/?verbose=true'\n",
    "res = requests.get(url1)\n",
    "xrp_accts = pd.DataFrame(res.json()['nodes'])\n",
    "#xrp_accts\n",
    "\n",
    "#xrp_accts.to_csv(\"test.csv\",index=False,sep=',')"
   ]
  },
  {
   "cell_type": "code",
   "execution_count": 84,
   "metadata": {},
   "outputs": [
    {
     "data": {
      "text/html": [
       "<div>\n",
       "<style scoped>\n",
       "    .dataframe tbody tr th:only-of-type {\n",
       "        vertical-align: middle;\n",
       "    }\n",
       "\n",
       "    .dataframe tbody tr th {\n",
       "        vertical-align: top;\n",
       "    }\n",
       "\n",
       "    .dataframe thead th {\n",
       "        text-align: right;\n",
       "    }\n",
       "</style>\n",
       "<table border=\"1\" class=\"dataframe\">\n",
       "  <thead>\n",
       "    <tr style=\"text-align: right;\">\n",
       "      <th></th>\n",
       "      <th>node_public_key</th>\n",
       "      <th>ip</th>\n",
       "      <th>version</th>\n",
       "      <th>uptime</th>\n",
       "      <th>inbound_count</th>\n",
       "      <th>outbound_count</th>\n",
       "      <th>rowkey</th>\n",
       "      <th>country</th>\n",
       "      <th>country_code</th>\n",
       "      <th>lat</th>\n",
       "      <th>long</th>\n",
       "      <th>timezone</th>\n",
       "      <th>port</th>\n",
       "      <th>city</th>\n",
       "      <th>postal_code</th>\n",
       "      <th>region</th>\n",
       "      <th>region_code</th>\n",
       "      <th>isp</th>\n",
       "    </tr>\n",
       "  </thead>\n",
       "  <tbody>\n",
       "    <tr>\n",
       "      <th>1011</th>\n",
       "      <td>n9KSw8RE8L42XHCyoUrSSuWRgT2rY2cn4kSiZmwE2vkvvt...</td>\n",
       "      <td>139.196.235.22</td>\n",
       "      <td>rippled-0.31.2</td>\n",
       "      <td>304459</td>\n",
       "      <td>2</td>\n",
       "      <td>2</td>\n",
       "      <td>n9KSw8RE8L42XHCyoUrSSuWRgT2rY2cn4kSiZmwE2vkvvt...</td>\n",
       "      <td>China</td>\n",
       "      <td>CN</td>\n",
       "      <td>30.294</td>\n",
       "      <td>120.1619</td>\n",
       "      <td>Asia/Shanghai</td>\n",
       "      <td>56235.0</td>\n",
       "      <td>Hangzhou</td>\n",
       "      <td>NaN</td>\n",
       "      <td>Zhejiang</td>\n",
       "      <td>ZJ</td>\n",
       "      <td>NaN</td>\n",
       "    </tr>\n",
       "    <tr>\n",
       "      <th>1012</th>\n",
       "      <td>n9MuUBrwCjeEyAqGb28rRMZx8RjVjsFn6xKaaGBbdEGAe1...</td>\n",
       "      <td>139.196.235.33</td>\n",
       "      <td>rippled-0.31.2</td>\n",
       "      <td>304435</td>\n",
       "      <td>3</td>\n",
       "      <td>1</td>\n",
       "      <td>n9MuUBrwCjeEyAqGb28rRMZx8RjVjsFn6xKaaGBbdEGAe1...</td>\n",
       "      <td>China</td>\n",
       "      <td>CN</td>\n",
       "      <td>30.294</td>\n",
       "      <td>120.1619</td>\n",
       "      <td>Asia/Shanghai</td>\n",
       "      <td>56235.0</td>\n",
       "      <td>Hangzhou</td>\n",
       "      <td>NaN</td>\n",
       "      <td>Zhejiang</td>\n",
       "      <td>ZJ</td>\n",
       "      <td>NaN</td>\n",
       "    </tr>\n",
       "    <tr>\n",
       "      <th>1013</th>\n",
       "      <td>n9MJNHoxFKExArPE5apWq2k2dLn5sZEqWCN5Z9jUkvWVzY...</td>\n",
       "      <td>10.25.47.193</td>\n",
       "      <td>rippled-0.31.2</td>\n",
       "      <td>304414</td>\n",
       "      <td>0</td>\n",
       "      <td>3</td>\n",
       "      <td>NaN</td>\n",
       "      <td>NaN</td>\n",
       "      <td>NaN</td>\n",
       "      <td>NaN</td>\n",
       "      <td>NaN</td>\n",
       "      <td>NaN</td>\n",
       "      <td>NaN</td>\n",
       "      <td>NaN</td>\n",
       "      <td>NaN</td>\n",
       "      <td>NaN</td>\n",
       "      <td>NaN</td>\n",
       "      <td>NaN</td>\n",
       "    </tr>\n",
       "    <tr>\n",
       "      <th>1014</th>\n",
       "      <td>n9KUcZCHp6pXCvzA9oouXonYPjTuzHoEMugUfNRN2QqgLb...</td>\n",
       "      <td>NaN</td>\n",
       "      <td>rippled-1.3.1</td>\n",
       "      <td>660797</td>\n",
       "      <td>0</td>\n",
       "      <td>1</td>\n",
       "      <td>n9KUcZCHp6pXCvzA9oouXonYPjTuzHoEMugUfNRN2QqgLb...</td>\n",
       "      <td>India</td>\n",
       "      <td>IN</td>\n",
       "      <td>20.000</td>\n",
       "      <td>77.0000</td>\n",
       "      <td>Asia/Kolkata</td>\n",
       "      <td>NaN</td>\n",
       "      <td>NaN</td>\n",
       "      <td>NaN</td>\n",
       "      <td>NaN</td>\n",
       "      <td>NaN</td>\n",
       "      <td>Mahanagar Telephone Nigam Ltd.</td>\n",
       "    </tr>\n",
       "    <tr>\n",
       "      <th>1015</th>\n",
       "      <td>n9Ms3adk2vDZ7p2fsYoJqFqv9ViqtZRF5pcukThVcymBcV...</td>\n",
       "      <td>NaN</td>\n",
       "      <td>rippled-1.3.1</td>\n",
       "      <td>660799</td>\n",
       "      <td>0</td>\n",
       "      <td>1</td>\n",
       "      <td>NaN</td>\n",
       "      <td>NaN</td>\n",
       "      <td>NaN</td>\n",
       "      <td>NaN</td>\n",
       "      <td>NaN</td>\n",
       "      <td>NaN</td>\n",
       "      <td>NaN</td>\n",
       "      <td>NaN</td>\n",
       "      <td>NaN</td>\n",
       "      <td>NaN</td>\n",
       "      <td>NaN</td>\n",
       "      <td>NaN</td>\n",
       "    </tr>\n",
       "  </tbody>\n",
       "</table>\n",
       "</div>"
      ],
      "text/plain": [
       "                                        node_public_key              ip  \\\n",
       "1011  n9KSw8RE8L42XHCyoUrSSuWRgT2rY2cn4kSiZmwE2vkvvt...  139.196.235.22   \n",
       "1012  n9MuUBrwCjeEyAqGb28rRMZx8RjVjsFn6xKaaGBbdEGAe1...  139.196.235.33   \n",
       "1013  n9MJNHoxFKExArPE5apWq2k2dLn5sZEqWCN5Z9jUkvWVzY...    10.25.47.193   \n",
       "1014  n9KUcZCHp6pXCvzA9oouXonYPjTuzHoEMugUfNRN2QqgLb...             NaN   \n",
       "1015  n9Ms3adk2vDZ7p2fsYoJqFqv9ViqtZRF5pcukThVcymBcV...             NaN   \n",
       "\n",
       "             version  uptime  inbound_count  outbound_count  \\\n",
       "1011  rippled-0.31.2  304459              2               2   \n",
       "1012  rippled-0.31.2  304435              3               1   \n",
       "1013  rippled-0.31.2  304414              0               3   \n",
       "1014   rippled-1.3.1  660797              0               1   \n",
       "1015   rippled-1.3.1  660799              0               1   \n",
       "\n",
       "                                                 rowkey country country_code  \\\n",
       "1011  n9KSw8RE8L42XHCyoUrSSuWRgT2rY2cn4kSiZmwE2vkvvt...   China           CN   \n",
       "1012  n9MuUBrwCjeEyAqGb28rRMZx8RjVjsFn6xKaaGBbdEGAe1...   China           CN   \n",
       "1013                                                NaN     NaN          NaN   \n",
       "1014  n9KUcZCHp6pXCvzA9oouXonYPjTuzHoEMugUfNRN2QqgLb...   India           IN   \n",
       "1015                                                NaN     NaN          NaN   \n",
       "\n",
       "         lat      long       timezone     port      city postal_code  \\\n",
       "1011  30.294  120.1619  Asia/Shanghai  56235.0  Hangzhou         NaN   \n",
       "1012  30.294  120.1619  Asia/Shanghai  56235.0  Hangzhou         NaN   \n",
       "1013     NaN       NaN            NaN      NaN       NaN         NaN   \n",
       "1014  20.000   77.0000   Asia/Kolkata      NaN       NaN         NaN   \n",
       "1015     NaN       NaN            NaN      NaN       NaN         NaN   \n",
       "\n",
       "        region region_code                             isp  \n",
       "1011  Zhejiang          ZJ                             NaN  \n",
       "1012  Zhejiang          ZJ                             NaN  \n",
       "1013       NaN         NaN                             NaN  \n",
       "1014       NaN         NaN  Mahanagar Telephone Nigam Ltd.  \n",
       "1015       NaN         NaN                             NaN  "
      ]
     },
     "execution_count": 84,
     "metadata": {},
     "output_type": "execute_result"
    }
   ],
   "source": [
    "df = pd.read_csv('test.csv')\n",
    "df.tail()"
   ]
  },
  {
   "cell_type": "code",
   "execution_count": 85,
   "metadata": {},
   "outputs": [
    {
     "data": {
      "text/plain": [
       "(1016, 18)"
      ]
     },
     "execution_count": 85,
     "metadata": {},
     "output_type": "execute_result"
    }
   ],
   "source": [
    "df.shape"
   ]
  },
  {
   "cell_type": "code",
   "execution_count": 86,
   "metadata": {
    "scrolled": true
   },
   "outputs": [
    {
     "data": {
      "text/html": [
       "<div>\n",
       "<style scoped>\n",
       "    .dataframe tbody tr th:only-of-type {\n",
       "        vertical-align: middle;\n",
       "    }\n",
       "\n",
       "    .dataframe tbody tr th {\n",
       "        vertical-align: top;\n",
       "    }\n",
       "\n",
       "    .dataframe thead th {\n",
       "        text-align: right;\n",
       "    }\n",
       "</style>\n",
       "<table border=\"1\" class=\"dataframe\">\n",
       "  <thead>\n",
       "    <tr style=\"text-align: right;\">\n",
       "      <th></th>\n",
       "      <th>uptime</th>\n",
       "      <th>city</th>\n",
       "      <th>country</th>\n",
       "      <th>node_public_key</th>\n",
       "      <th>region</th>\n",
       "    </tr>\n",
       "  </thead>\n",
       "  <tbody>\n",
       "    <tr>\n",
       "      <th>1011</th>\n",
       "      <td>304459</td>\n",
       "      <td>Hangzhou</td>\n",
       "      <td>China</td>\n",
       "      <td>n9KSw8RE8L42XHCyoUrSSuWRgT2rY2cn4kSiZmwE2vkvvt...</td>\n",
       "      <td>Zhejiang</td>\n",
       "    </tr>\n",
       "    <tr>\n",
       "      <th>1012</th>\n",
       "      <td>304435</td>\n",
       "      <td>Hangzhou</td>\n",
       "      <td>China</td>\n",
       "      <td>n9MuUBrwCjeEyAqGb28rRMZx8RjVjsFn6xKaaGBbdEGAe1...</td>\n",
       "      <td>Zhejiang</td>\n",
       "    </tr>\n",
       "    <tr>\n",
       "      <th>1013</th>\n",
       "      <td>304414</td>\n",
       "      <td>NaN</td>\n",
       "      <td>NaN</td>\n",
       "      <td>n9MJNHoxFKExArPE5apWq2k2dLn5sZEqWCN5Z9jUkvWVzY...</td>\n",
       "      <td>NaN</td>\n",
       "    </tr>\n",
       "    <tr>\n",
       "      <th>1014</th>\n",
       "      <td>660797</td>\n",
       "      <td>NaN</td>\n",
       "      <td>India</td>\n",
       "      <td>n9KUcZCHp6pXCvzA9oouXonYPjTuzHoEMugUfNRN2QqgLb...</td>\n",
       "      <td>NaN</td>\n",
       "    </tr>\n",
       "    <tr>\n",
       "      <th>1015</th>\n",
       "      <td>660799</td>\n",
       "      <td>NaN</td>\n",
       "      <td>NaN</td>\n",
       "      <td>n9Ms3adk2vDZ7p2fsYoJqFqv9ViqtZRF5pcukThVcymBcV...</td>\n",
       "      <td>NaN</td>\n",
       "    </tr>\n",
       "  </tbody>\n",
       "</table>\n",
       "</div>"
      ],
      "text/plain": [
       "      uptime      city country  \\\n",
       "1011  304459  Hangzhou   China   \n",
       "1012  304435  Hangzhou   China   \n",
       "1013  304414       NaN     NaN   \n",
       "1014  660797       NaN   India   \n",
       "1015  660799       NaN     NaN   \n",
       "\n",
       "                                        node_public_key    region  \n",
       "1011  n9KSw8RE8L42XHCyoUrSSuWRgT2rY2cn4kSiZmwE2vkvvt...  Zhejiang  \n",
       "1012  n9MuUBrwCjeEyAqGb28rRMZx8RjVjsFn6xKaaGBbdEGAe1...  Zhejiang  \n",
       "1013  n9MJNHoxFKExArPE5apWq2k2dLn5sZEqWCN5Z9jUkvWVzY...       NaN  \n",
       "1014  n9KUcZCHp6pXCvzA9oouXonYPjTuzHoEMugUfNRN2QqgLb...       NaN  \n",
       "1015  n9Ms3adk2vDZ7p2fsYoJqFqv9ViqtZRF5pcukThVcymBcV...       NaN  "
      ]
     },
     "execution_count": 86,
     "metadata": {},
     "output_type": "execute_result"
    }
   ],
   "source": [
    "df = df[['uptime','city','country','node_public_key','region']]\n",
    "df.tail()"
   ]
  },
  {
   "cell_type": "code",
   "execution_count": 87,
   "metadata": {},
   "outputs": [],
   "source": [
    "df = df.groupby('country').uptime.mean().to_frame().reset_index()"
   ]
  },
  {
   "cell_type": "code",
   "execution_count": 88,
   "metadata": {},
   "outputs": [],
   "source": [
    "df.sort_values(by = 'uptime' , axis=0, ascending=False, inplace=True)"
   ]
  },
  {
   "cell_type": "code",
   "execution_count": 89,
   "metadata": {},
   "outputs": [
    {
     "data": {
      "text/html": [
       "<div>\n",
       "<style scoped>\n",
       "    .dataframe tbody tr th:only-of-type {\n",
       "        vertical-align: middle;\n",
       "    }\n",
       "\n",
       "    .dataframe tbody tr th {\n",
       "        vertical-align: top;\n",
       "    }\n",
       "\n",
       "    .dataframe thead th {\n",
       "        text-align: right;\n",
       "    }\n",
       "</style>\n",
       "<table border=\"1\" class=\"dataframe\">\n",
       "  <thead>\n",
       "    <tr style=\"text-align: right;\">\n",
       "      <th></th>\n",
       "      <th>country</th>\n",
       "      <th>uptime</th>\n",
       "    </tr>\n",
       "  </thead>\n",
       "  <tbody>\n",
       "    <tr>\n",
       "      <th>22</th>\n",
       "      <td>Norway</td>\n",
       "      <td>2.116826e+06</td>\n",
       "    </tr>\n",
       "    <tr>\n",
       "      <th>35</th>\n",
       "      <td>United States</td>\n",
       "      <td>1.611216e+06</td>\n",
       "    </tr>\n",
       "    <tr>\n",
       "      <th>14</th>\n",
       "      <td>Japan</td>\n",
       "      <td>1.504008e+06</td>\n",
       "    </tr>\n",
       "    <tr>\n",
       "      <th>28</th>\n",
       "      <td>Slovakia</td>\n",
       "      <td>1.155798e+06</td>\n",
       "    </tr>\n",
       "    <tr>\n",
       "      <th>33</th>\n",
       "      <td>Ukraine</td>\n",
       "      <td>1.145861e+06</td>\n",
       "    </tr>\n",
       "    <tr>\n",
       "      <th>7</th>\n",
       "      <td>Germany</td>\n",
       "      <td>1.103925e+06</td>\n",
       "    </tr>\n",
       "    <tr>\n",
       "      <th>17</th>\n",
       "      <td>Latvia</td>\n",
       "      <td>9.657310e+05</td>\n",
       "    </tr>\n",
       "    <tr>\n",
       "      <th>20</th>\n",
       "      <td>Netherlands</td>\n",
       "      <td>9.007923e+05</td>\n",
       "    </tr>\n",
       "    <tr>\n",
       "      <th>27</th>\n",
       "      <td>Singapore</td>\n",
       "      <td>8.892396e+05</td>\n",
       "    </tr>\n",
       "    <tr>\n",
       "      <th>0</th>\n",
       "      <td>Australia</td>\n",
       "      <td>8.820545e+05</td>\n",
       "    </tr>\n",
       "    <tr>\n",
       "      <th>5</th>\n",
       "      <td>Finland</td>\n",
       "      <td>8.510407e+05</td>\n",
       "    </tr>\n",
       "    <tr>\n",
       "      <th>21</th>\n",
       "      <td>New Zealand</td>\n",
       "      <td>8.214170e+05</td>\n",
       "    </tr>\n",
       "    <tr>\n",
       "      <th>31</th>\n",
       "      <td>South Korea</td>\n",
       "      <td>7.961528e+05</td>\n",
       "    </tr>\n",
       "    <tr>\n",
       "      <th>29</th>\n",
       "      <td>Slovenia</td>\n",
       "      <td>7.893403e+05</td>\n",
       "    </tr>\n",
       "    <tr>\n",
       "      <th>8</th>\n",
       "      <td>Hong Kong</td>\n",
       "      <td>7.819394e+05</td>\n",
       "    </tr>\n",
       "    <tr>\n",
       "      <th>18</th>\n",
       "      <td>Luxembourg</td>\n",
       "      <td>6.813617e+05</td>\n",
       "    </tr>\n",
       "    <tr>\n",
       "      <th>10</th>\n",
       "      <td>India</td>\n",
       "      <td>6.407184e+05</td>\n",
       "    </tr>\n",
       "    <tr>\n",
       "      <th>11</th>\n",
       "      <td>Ireland</td>\n",
       "      <td>6.315858e+05</td>\n",
       "    </tr>\n",
       "    <tr>\n",
       "      <th>4</th>\n",
       "      <td>Denmark</td>\n",
       "      <td>6.296857e+05</td>\n",
       "    </tr>\n",
       "    <tr>\n",
       "      <th>34</th>\n",
       "      <td>United Kingdom</td>\n",
       "      <td>6.204772e+05</td>\n",
       "    </tr>\n",
       "    <tr>\n",
       "      <th>16</th>\n",
       "      <td>Korea, Republic of</td>\n",
       "      <td>5.428590e+05</td>\n",
       "    </tr>\n",
       "    <tr>\n",
       "      <th>6</th>\n",
       "      <td>France</td>\n",
       "      <td>4.992356e+05</td>\n",
       "    </tr>\n",
       "    <tr>\n",
       "      <th>32</th>\n",
       "      <td>Switzerland</td>\n",
       "      <td>4.434892e+05</td>\n",
       "    </tr>\n",
       "    <tr>\n",
       "      <th>3</th>\n",
       "      <td>China</td>\n",
       "      <td>3.656764e+05</td>\n",
       "    </tr>\n",
       "    <tr>\n",
       "      <th>9</th>\n",
       "      <td>Iceland</td>\n",
       "      <td>3.624255e+05</td>\n",
       "    </tr>\n",
       "    <tr>\n",
       "      <th>2</th>\n",
       "      <td>Canada</td>\n",
       "      <td>3.290015e+05</td>\n",
       "    </tr>\n",
       "    <tr>\n",
       "      <th>1</th>\n",
       "      <td>Brazil</td>\n",
       "      <td>2.871713e+05</td>\n",
       "    </tr>\n",
       "    <tr>\n",
       "      <th>26</th>\n",
       "      <td>Serbia</td>\n",
       "      <td>2.115560e+05</td>\n",
       "    </tr>\n",
       "    <tr>\n",
       "      <th>25</th>\n",
       "      <td>Russia</td>\n",
       "      <td>1.398444e+05</td>\n",
       "    </tr>\n",
       "    <tr>\n",
       "      <th>37</th>\n",
       "      <td>Vietnam</td>\n",
       "      <td>1.195935e+05</td>\n",
       "    </tr>\n",
       "    <tr>\n",
       "      <th>19</th>\n",
       "      <td>Malaysia</td>\n",
       "      <td>9.473433e+04</td>\n",
       "    </tr>\n",
       "    <tr>\n",
       "      <th>13</th>\n",
       "      <td>Italy</td>\n",
       "      <td>7.452100e+04</td>\n",
       "    </tr>\n",
       "    <tr>\n",
       "      <th>30</th>\n",
       "      <td>South Africa</td>\n",
       "      <td>6.428000e+04</td>\n",
       "    </tr>\n",
       "    <tr>\n",
       "      <th>24</th>\n",
       "      <td>Romania</td>\n",
       "      <td>1.976100e+04</td>\n",
       "    </tr>\n",
       "    <tr>\n",
       "      <th>12</th>\n",
       "      <td>Israel</td>\n",
       "      <td>1.364000e+03</td>\n",
       "    </tr>\n",
       "    <tr>\n",
       "      <th>36</th>\n",
       "      <td>Uzbekistan</td>\n",
       "      <td>1.640000e+02</td>\n",
       "    </tr>\n",
       "    <tr>\n",
       "      <th>15</th>\n",
       "      <td>Kenya</td>\n",
       "      <td>1.900000e+01</td>\n",
       "    </tr>\n",
       "    <tr>\n",
       "      <th>23</th>\n",
       "      <td>Republic of Lithuania</td>\n",
       "      <td>1.000000e+00</td>\n",
       "    </tr>\n",
       "  </tbody>\n",
       "</table>\n",
       "</div>"
      ],
      "text/plain": [
       "                  country        uptime\n",
       "22                 Norway  2.116826e+06\n",
       "35          United States  1.611216e+06\n",
       "14                  Japan  1.504008e+06\n",
       "28               Slovakia  1.155798e+06\n",
       "33                Ukraine  1.145861e+06\n",
       "7                 Germany  1.103925e+06\n",
       "17                 Latvia  9.657310e+05\n",
       "20            Netherlands  9.007923e+05\n",
       "27              Singapore  8.892396e+05\n",
       "0               Australia  8.820545e+05\n",
       "5                 Finland  8.510407e+05\n",
       "21            New Zealand  8.214170e+05\n",
       "31            South Korea  7.961528e+05\n",
       "29               Slovenia  7.893403e+05\n",
       "8               Hong Kong  7.819394e+05\n",
       "18             Luxembourg  6.813617e+05\n",
       "10                  India  6.407184e+05\n",
       "11                Ireland  6.315858e+05\n",
       "4                 Denmark  6.296857e+05\n",
       "34         United Kingdom  6.204772e+05\n",
       "16     Korea, Republic of  5.428590e+05\n",
       "6                  France  4.992356e+05\n",
       "32            Switzerland  4.434892e+05\n",
       "3                   China  3.656764e+05\n",
       "9                 Iceland  3.624255e+05\n",
       "2                  Canada  3.290015e+05\n",
       "1                  Brazil  2.871713e+05\n",
       "26                 Serbia  2.115560e+05\n",
       "25                 Russia  1.398444e+05\n",
       "37                Vietnam  1.195935e+05\n",
       "19               Malaysia  9.473433e+04\n",
       "13                  Italy  7.452100e+04\n",
       "30           South Africa  6.428000e+04\n",
       "24                Romania  1.976100e+04\n",
       "12                 Israel  1.364000e+03\n",
       "36             Uzbekistan  1.640000e+02\n",
       "15                  Kenya  1.900000e+01\n",
       "23  Republic of Lithuania  1.000000e+00"
      ]
     },
     "execution_count": 89,
     "metadata": {},
     "output_type": "execute_result"
    }
   ],
   "source": [
    "df"
   ]
  },
  {
   "cell_type": "code",
   "execution_count": null,
   "metadata": {},
   "outputs": [],
   "source": []
  },
  {
   "cell_type": "code",
   "execution_count": 90,
   "metadata": {},
   "outputs": [
    {
     "data": {
      "text/plain": [
       "(38, 2)"
      ]
     },
     "execution_count": 90,
     "metadata": {},
     "output_type": "execute_result"
    }
   ],
   "source": [
    "df.shape"
   ]
  },
  {
   "cell_type": "code",
   "execution_count": 91,
   "metadata": {},
   "outputs": [],
   "source": [
    "#df.isnull().sum()  # missing values\n",
    "#df.dropna(how='any', inplace=True)"
   ]
  },
  {
   "cell_type": "code",
   "execution_count": 92,
   "metadata": {},
   "outputs": [],
   "source": [
    "#df.shape"
   ]
  },
  {
   "cell_type": "code",
   "execution_count": 93,
   "metadata": {},
   "outputs": [
    {
     "data": {
      "text/plain": [
       "38"
      ]
     },
     "execution_count": 93,
     "metadata": {},
     "output_type": "execute_result"
    }
   ],
   "source": [
    "pd.unique(df['country'])\n",
    "len(pd.unique(df['country']))"
   ]
  },
  {
   "cell_type": "code",
   "execution_count": 94,
   "metadata": {},
   "outputs": [],
   "source": [
    "import seaborn as sns\n",
    "%matplotlib inline"
   ]
  },
  {
   "cell_type": "code",
   "execution_count": 95,
   "metadata": {},
   "outputs": [
    {
     "data": {
      "text/plain": [
       "<matplotlib.axes._subplots.AxesSubplot at 0x11719c5c0>"
      ]
     },
     "execution_count": 95,
     "metadata": {},
     "output_type": "execute_result"
    },
    {
     "data": {
      "image/png": "[encoded data removed]",
      "text/plain": [
       "<Figure size 432x288 with 1 Axes>"
      ]
     },
     "metadata": {
      "needs_background": "light"
     },
     "output_type": "display_data"
    }
   ],
   "source": [
    "sns.distplot(df['uptime'], bins=38)\n",
    "# Safe to ignore warnings"
   ]
  },
  {
   "cell_type": "code",
   "execution_count": 96,
   "metadata": {},
   "outputs": [
    {
     "data": {
      "image/png": "[encoded data removed]",
      "text/plain": [
       "<Figure size 3600x1440 with 1 Axes>"
      ]
     },
     "metadata": {
      "needs_background": "light"
     },
     "output_type": "display_data"
    }
   ],
   "source": [
    "import matplotlib.pyplot as plt\n",
    "plt.figure(figsize=(50,20))\n",
    "sns_plot = sns.barplot(x=\"country\", y=\"uptime\", palette=\"ch:.25\", data=df)\n",
    "fig = sns_plot.get_figure()\n",
    "fig.savefig(\"output.png\")"
   ]
  },
  {
   "cell_type": "code",
   "execution_count": 97,
   "metadata": {},
   "outputs": [
    {
     "data": {
      "text/plain": [
       "<matplotlib.axes._subplots.AxesSubplot at 0x1a1b870c50>"
      ]
     },
     "execution_count": 97,
     "metadata": {},
     "output_type": "execute_result"
    },
    {
     "data": {
      "image/png": "[encoded data removed]",
      "text/plain": [
       "<Figure size 432x288 with 1 Axes>"
      ]
     },
     "metadata": {
      "needs_background": "light"
     },
     "output_type": "display_data"
    }
   ],
   "source": [
    "sns.stripplot(x=\"country\", y=\"uptime\", data=df, jitter=True)"
   ]
  },
  {
   "cell_type": "code",
   "execution_count": 98,
   "metadata": {},
   "outputs": [],
   "source": [
    "import requests"
   ]
  },
  {
   "cell_type": "code",
   "execution_count": 161,
   "metadata": {},
   "outputs": [],
   "source": [
    "url2 = f'https://data.ripple.com/v2/network/exchange_volume?'\n",
    "\n",
    "res = requests.get(url2)\n",
    "xrp_exchange_volume = pd.DataFrame(res.json()['rows'])['components']"
   ]
  },
  {
   "cell_type": "code",
   "execution_count": 178,
   "metadata": {},
   "outputs": [
    {
     "name": "stdout",
     "output_type": "stream",
     "text": [
      "https://data.ripple.com/v2/network/exchange_volume?start=2019-11-11T03:58:14Z&end=2019-11-12T03:58:14Z&limit=1000\n"
     ]
    },
    {
     "data": {
      "text/plain": [
       "[{'base': {'currency': 'USD', 'issuer': 'rvYAfWj5gh67oV6fW32ZzP3Aw4Eubs59B'},\n",
       "  'counter': {'currency': 'XRP'},\n",
       "  'amount': '271648.3493930878',\n",
       "  'count': 187,\n",
       "  'rate': '0.27151200',\n",
       "  'converted_amount': '1000503.6547240001'},\n",
       " {'base': {'currency': 'EUR', 'issuer': 'rhub8VRN55s94qWKDv6jmDy1pUykJzF3wq'},\n",
       "  'counter': {'currency': 'XRP'},\n",
       "  'amount': '58346.769700061566',\n",
       "  'count': 876,\n",
       "  'rate': '0.24941000',\n",
       "  'converted_amount': '233939.20385300086'},\n",
       " {'base': {'currency': 'XLM', 'issuer': 'rKiCet8SdvWxPXnAgYarFUXMh1zCPz432Y'},\n",
       "  'counter': {'currency': 'XRP'},\n",
       "  'amount': '334597.01053863333',\n",
       "  'count': 418,\n",
       "  'rate': '3.4633800',\n",
       "  'converted_amount': '96610.07680300006'},\n",
       " {'base': {'currency': 'CNY', 'issuer': 'rKiCet8SdvWxPXnAgYarFUXMh1zCPz432Y'},\n",
       "  'counter': {'currency': 'XRP'},\n",
       "  'amount': '171114.54003649415',\n",
       "  'count': 251,\n",
       "  'rate': '1.9156400',\n",
       "  'converted_amount': '89325.111652'},\n",
       " {'base': {'currency': 'CNY', 'issuer': 'razqQKzJRdB4UxFPWf5NEpEG3WMkmwgcXA'},\n",
       "  'counter': {'currency': 'CNY',\n",
       "   'issuer': 'rKiCet8SdvWxPXnAgYarFUXMh1zCPz432Y'},\n",
       "  'amount': '120026.49063976973',\n",
       "  'count': 54,\n",
       "  'rate': '1.9223000',\n",
       "  'converted_amount': '62439.09481679536'},\n",
       " {'base': {'currency': 'CNY', 'issuer': 'razqQKzJRdB4UxFPWf5NEpEG3WMkmwgcXA'},\n",
       "  'counter': {'currency': 'XRP'},\n",
       "  'amount': '116720.58835887084',\n",
       "  'count': 50,\n",
       "  'rate': '1.9223000',\n",
       "  'converted_amount': '60719.32824799999'},\n",
       " {'base': {'currency': 'CNY', 'issuer': 'rKiCet8SdvWxPXnAgYarFUXMh1zCPz432Y'},\n",
       "  'counter': {'currency': 'USD',\n",
       "   'issuer': 'rvYAfWj5gh67oV6fW32ZzP3Aw4Eubs59B'},\n",
       "  'amount': '86665.63084498896',\n",
       "  'count': 87,\n",
       "  'rate': '1.9156400',\n",
       "  'converted_amount': '45241.14169356162'},\n",
       " {'base': {'currency': 'USD', 'issuer': 'rhub8VRN55s94qWKDv6jmDy1pUykJzF3wq'},\n",
       "  'counter': {'currency': 'XRP'},\n",
       "  'amount': '10679.46066269651',\n",
       "  'count': 341,\n",
       "  'rate': '0.27381200',\n",
       "  'converted_amount': '39002.89497599999'},\n",
       " {'base': {'currency': 'BTC', 'issuer': 'rchGBxcD1A1C2tdxF6papQYZ8kjRKMYcL'},\n",
       "  'counter': {'currency': 'XRP'},\n",
       "  'amount': '0.9794408357763679',\n",
       "  'count': 129,\n",
       "  'rate': '0.000031171000',\n",
       "  'converted_amount': '31421.555848999993'},\n",
       " {'base': {'currency': 'ULT', 'issuer': 'rKiCet8SdvWxPXnAgYarFUXMh1zCPz432Y'},\n",
       "  'counter': {'currency': 'XRP'},\n",
       "  'amount': '107179.5325205799',\n",
       "  'count': 157,\n",
       "  'rate': '9.4686300',\n",
       "  'converted_amount': '11319.436588'},\n",
       " {'base': {'currency': 'CNY', 'issuer': 'rKiCet8SdvWxPXnAgYarFUXMh1zCPz432Y'},\n",
       "  'counter': {'currency': 'XLM',\n",
       "   'issuer': 'rKiCet8SdvWxPXnAgYarFUXMh1zCPz432Y'},\n",
       "  'amount': '21436.003799522645',\n",
       "  'count': 106,\n",
       "  'rate': '1.9156400',\n",
       "  'converted_amount': '11190.010108765082'},\n",
       " {'base': {'currency': 'CNY', 'issuer': 'rKiCet8SdvWxPXnAgYarFUXMh1zCPz432Y'},\n",
       "  'counter': {'currency': 'ULT',\n",
       "   'issuer': 'rKiCet8SdvWxPXnAgYarFUXMh1zCPz432Y'},\n",
       "  'amount': '17727.756701122144',\n",
       "  'count': 79,\n",
       "  'rate': '1.9156400',\n",
       "  'converted_amount': '9254.233137227857'},\n",
       " {'base': {'currency': 'USD', 'issuer': 'rhub8VRN55s94qWKDv6jmDy1pUykJzF3wq'},\n",
       "  'counter': {'currency': 'USD',\n",
       "   'issuer': 'rvYAfWj5gh67oV6fW32ZzP3Aw4Eubs59B'},\n",
       "  'amount': '2307.627241499013',\n",
       "  'count': 33,\n",
       "  'rate': '0.27381200',\n",
       "  'converted_amount': '8427.779808986812'},\n",
       " {'base': {'currency': 'BTC', 'issuer': 'rvYAfWj5gh67oV6fW32ZzP3Aw4Eubs59B'},\n",
       "  'counter': {'currency': 'XRP'},\n",
       "  'amount': '0.10824379396070528',\n",
       "  'count': 10,\n",
       "  'rate': '0.000031372000',\n",
       "  'converted_amount': '3450.3300950000003'},\n",
       " {'base': {'currency': 'EUR', 'issuer': 'rhub8VRN55s94qWKDv6jmDy1pUykJzF3wq'},\n",
       "  'counter': {'currency': 'USD',\n",
       "   'issuer': 'rhub8VRN55s94qWKDv6jmDy1pUykJzF3wq'},\n",
       "  'amount': '592.8555945794537',\n",
       "  'count': 20,\n",
       "  'rate': '0.24941000',\n",
       "  'converted_amount': '2377.0324648421542'},\n",
       " {'base': {'currency': 'ETH', 'issuer': 'rcA8X3TVMST1n3CJeAdGk1RdRCHii7N2h'},\n",
       "  'counter': {'currency': 'XRP'},\n",
       "  'amount': '2.9921177552800264',\n",
       "  'count': 10,\n",
       "  'rate': '0.0015113800',\n",
       "  'converted_amount': '1979.7216599999997'}]"
      ]
     },
     "execution_count": 178,
     "metadata": {},
     "output_type": "execute_result"
    }
   ],
   "source": [
    "\n",
    "from datetime import datetime, timedelta\n",
    "\n",
    "def volume():\n",
    "    end_time = datetime.utcnow()\n",
    "    start_time = end_time - timedelta(days=1)\n",
    "\n",
    "    start_time_string = start_time.strftime('%Y-%m-%dT%H:%M:%SZ')\n",
    "    end_time_string = end_time.strftime('%Y-%m-%dT%H:%M:%SZ')\n",
    "    url = 'https://data.ripple.com/v2/network/exchange_volume?start={}&end={}&limit=1000'.format(start_time_string,\n",
    "                                                                                                  end_time_string)\n",
    "    \n",
    "    print(url)\n",
    "    res = requests.get(url)\n",
    "    xrp_exchange_volume = pd.DataFrame(res.json()['rows'])['components'][0]\n",
    "    return xrp_exchange_volume \n",
    "volume()"
   ]
  },
  {
   "cell_type": "code",
   "execution_count": 170,
   "metadata": {},
   "outputs": [
    {
     "data": {
      "text/plain": [
       "0    [{'base': {'currency': 'USD', 'issuer': 'rvYAf...\n",
       "Name: components, dtype: object"
      ]
     },
     "execution_count": 170,
     "metadata": {},
     "output_type": "execute_result"
    }
   ],
   "source": [
    "xrp_exchange_volume = pd.DataFrame(res.json()['rows'])['components']\n",
    "xrp_exchange_volume"
   ]
  },
  {
   "cell_type": "code",
   "execution_count": 160,
   "metadata": {
    "scrolled": true
   },
   "outputs": [
    {
     "data": {
      "text/html": [
       "<div>\n",
       "<style scoped>\n",
       "    .dataframe tbody tr th:only-of-type {\n",
       "        vertical-align: middle;\n",
       "    }\n",
       "\n",
       "    .dataframe tbody tr th {\n",
       "        vertical-align: top;\n",
       "    }\n",
       "\n",
       "    .dataframe thead th {\n",
       "        text-align: right;\n",
       "    }\n",
       "</style>\n",
       "<table border=\"1\" class=\"dataframe\">\n",
       "  <thead>\n",
       "    <tr style=\"text-align: right;\">\n",
       "      <th></th>\n",
       "      <th>amount</th>\n",
       "      <th>base_currency</th>\n",
       "      <th>base_issuer</th>\n",
       "      <th>converted_amount</th>\n",
       "      <th>count</th>\n",
       "      <th>counter_currency</th>\n",
       "      <th>counter_issuer</th>\n",
       "      <th>rate</th>\n",
       "    </tr>\n",
       "  </thead>\n",
       "  <tbody>\n",
       "    <tr>\n",
       "      <th>0</th>\n",
       "      <td>271443.3205506204</td>\n",
       "      <td>USD</td>\n",
       "      <td>rvYAfWj5gh67oV6fW32ZzP3Aw4Eubs59B</td>\n",
       "      <td>999754.5275960002</td>\n",
       "      <td>179</td>\n",
       "      <td>XRP</td>\n",
       "      <td>NaN</td>\n",
       "      <td>0.27151000</td>\n",
       "    </tr>\n",
       "    <tr>\n",
       "      <th>1</th>\n",
       "      <td>58346.769700061566</td>\n",
       "      <td>EUR</td>\n",
       "      <td>rhub8VRN55s94qWKDv6jmDy1pUykJzF3wq</td>\n",
       "      <td>233939.20385300086</td>\n",
       "      <td>876</td>\n",
       "      <td>XRP</td>\n",
       "      <td>NaN</td>\n",
       "      <td>0.24941000</td>\n",
       "    </tr>\n",
       "    <tr>\n",
       "      <th>2</th>\n",
       "      <td>182350.54783127463</td>\n",
       "      <td>CNY</td>\n",
       "      <td>rKiCet8SdvWxPXnAgYarFUXMh1zCPz432Y</td>\n",
       "      <td>95015.19821899998</td>\n",
       "      <td>251</td>\n",
       "      <td>XRP</td>\n",
       "      <td>NaN</td>\n",
       "      <td>1.9191700</td>\n",
       "    </tr>\n",
       "    <tr>\n",
       "      <th>3</th>\n",
       "      <td>283035.3795997556</td>\n",
       "      <td>XLM</td>\n",
       "      <td>rKiCet8SdvWxPXnAgYarFUXMh1zCPz432Y</td>\n",
       "      <td>81690.83787900003</td>\n",
       "      <td>352</td>\n",
       "      <td>XRP</td>\n",
       "      <td>NaN</td>\n",
       "      <td>3.4647100</td>\n",
       "    </tr>\n",
       "    <tr>\n",
       "      <th>4</th>\n",
       "      <td>120026.49063976973</td>\n",
       "      <td>CNY</td>\n",
       "      <td>razqQKzJRdB4UxFPWf5NEpEG3WMkmwgcXA</td>\n",
       "      <td>62439.09481679536</td>\n",
       "      <td>54</td>\n",
       "      <td>CNY</td>\n",
       "      <td>rKiCet8SdvWxPXnAgYarFUXMh1zCPz432Y</td>\n",
       "      <td>1.9223000</td>\n",
       "    </tr>\n",
       "  </tbody>\n",
       "</table>\n",
       "</div>"
      ],
      "text/plain": [
       "               amount base_currency                         base_issuer  \\\n",
       "0   271443.3205506204           USD   rvYAfWj5gh67oV6fW32ZzP3Aw4Eubs59B   \n",
       "1  58346.769700061566           EUR  rhub8VRN55s94qWKDv6jmDy1pUykJzF3wq   \n",
       "2  182350.54783127463           CNY  rKiCet8SdvWxPXnAgYarFUXMh1zCPz432Y   \n",
       "3   283035.3795997556           XLM  rKiCet8SdvWxPXnAgYarFUXMh1zCPz432Y   \n",
       "4  120026.49063976973           CNY  razqQKzJRdB4UxFPWf5NEpEG3WMkmwgcXA   \n",
       "\n",
       "     converted_amount  count counter_currency  \\\n",
       "0   999754.5275960002    179              XRP   \n",
       "1  233939.20385300086    876              XRP   \n",
       "2   95015.19821899998    251              XRP   \n",
       "3   81690.83787900003    352              XRP   \n",
       "4   62439.09481679536     54              CNY   \n",
       "\n",
       "                       counter_issuer        rate  \n",
       "0                                 NaN  0.27151000  \n",
       "1                                 NaN  0.24941000  \n",
       "2                                 NaN   1.9191700  \n",
       "3                                 NaN   3.4647100  \n",
       "4  rKiCet8SdvWxPXnAgYarFUXMh1zCPz432Y   1.9223000  "
      ]
     },
     "execution_count": 160,
     "metadata": {},
     "output_type": "execute_result"
    }
   ],
   "source": [
    "import json\n",
    "import ast\n",
    "content = json.loads(res.content.decode('utf-8'))\n",
    "dic = content['rows'][0]\n",
    "#pd.DataFrame(content['rows'][0])\n",
    "dic = dic['components']\n",
    "#dic = dic[0]\n",
    "#type(dic)\n",
    "df = pd.DataFrame(dic).reset_index(drop = True)\n",
    "\n",
    "L = [elem for elem in df['base']]\n",
    "df2 = pd.DataFrame(L)\n",
    "df2 = df2.rename(columns={\"currency\":\"base_currency\",'issuer':'base_issuer'})\n",
    "df = df.join(df2)\n",
    "\n",
    "\n",
    "L = [elem for elem in df['counter']]\n",
    "df2 = pd.DataFrame(L)\n",
    "df2 = df2.rename(columns={\"currency\":\"counter_currency\",'issuer':'counter_issuer'})\n",
    "df = df.join(df2)\n",
    "cols = ['amount', 'base_currency','base_issuer','converted_amount','count','counter_currency','counter_issuer','rate']\n",
    "df_final = df[cols]\n",
    "df_final.head()"
   ]
  },
  {
   "cell_type": "code",
   "execution_count": 132,
   "metadata": {
    "scrolled": true
   },
   "outputs": [
    {
     "name": "stderr",
     "output_type": "stream",
     "text": [
      "/Users/salomeschwarz/anaconda3/lib/python3.7/site-packages/ipykernel_launcher.py:2: SettingWithCopyWarning: \n",
      "A value is trying to be set on a copy of a slice from a DataFrame\n",
      "\n",
      "See the caveats in the documentation: http://pandas.pydata.org/pandas-docs/stable/indexing.html#indexing-view-versus-copy\n",
      "  \n"
     ]
    }
   ],
   "source": [
    "for i in range(len(df['amount'])):\n",
    "    df['amount'][i] = float(df['amount'][i]) "
   ]
  },
  {
   "cell_type": "code",
   "execution_count": 133,
   "metadata": {},
   "outputs": [
    {
     "data": {
      "text/plain": [
       "0     271892.744348\n",
       "1      58346.769700\n",
       "2     178250.183181\n",
       "3     134656.566298\n",
       "4     220443.687996\n",
       "5     112988.472464\n",
       "6      88454.328210\n",
       "7       8891.489016\n",
       "8          0.979441\n",
       "9       2307.627241\n",
       "10     60872.824584\n",
       "11      8934.716973\n",
       "12         0.107983\n",
       "13      4610.879547\n",
       "14       592.855595\n",
       "15         2.735769\n",
       "Name: amount, dtype: float64"
      ]
     },
     "execution_count": 133,
     "metadata": {},
     "output_type": "execute_result"
    }
   ],
   "source": [
    "df['amount'].apply(pd.to_numeric)"
   ]
  },
  {
   "cell_type": "code",
   "execution_count": 135,
   "metadata": {},
   "outputs": [
    {
     "data": {
      "text/plain": [
       "float"
      ]
     },
     "execution_count": 135,
     "metadata": {},
     "output_type": "execute_result"
    }
   ],
   "source": [
    "type(df['amount'][0])"
   ]
  },
  {
   "cell_type": "code",
   "execution_count": null,
   "metadata": {},
   "outputs": [],
   "source": [
    "import matplotlib.pyplot as plt\n",
    "import seaborn as sns\n",
    "%matplotlib inline"
   ]
  },
  {
   "cell_type": "code",
   "execution_count": 152,
   "metadata": {},
   "outputs": [
    {
     "data": {
      "image/png": "[encoded data removed]",
      "text/plain": [
       "<Figure size 2880x1440 with 1 Axes>"
      ]
     },
     "metadata": {},
     "output_type": "display_data"
    }
   ],
   "source": [
    "axes = {'xaxis': df['base_currency'], 'yaxis': df['amount']}\n",
    "plt.figure(figsize=(40,20))\n",
    "sns.set(font_scale=5)\n",
    "sns_plot = sns.barplot(x = axes['xaxis'], y = axes['yaxis'], orient='v', palette=\"ch:.25\")\n",
    "fig = sns_plot.get_figure()\n",
    "fig.savefig(\"volume.png\")"
   ]
  },
  {
   "cell_type": "code",
   "execution_count": null,
   "metadata": {},
   "outputs": [],
   "source": []
  },
  {
   "cell_type": "code",
   "execution_count": null,
   "metadata": {},
   "outputs": [],
   "source": []
  },
  {
   "cell_type": "code",
   "execution_count": null,
   "metadata": {},
   "outputs": [],
   "source": []
  }
 ],
 "metadata": {
  "kernelspec": {
   "display_name": "Python 3",
   "language": "python",
   "name": "python3"
  },
  "language_info": {
   "codemirror_mode": {
    "name": "ipython",
    "version": 3
   },
   "file_extension": ".py",
   "mimetype": "text/x-python",
   "name": "python",
   "nbconvert_exporter": "python",
   "pygments_lexer": "ipython3",
   "version": "3.7.3"
  }
 },
 "nbformat": 4,
 "nbformat_minor": 2
}
